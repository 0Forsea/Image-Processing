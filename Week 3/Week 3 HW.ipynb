{
 "cells": [
  {
   "cell_type": "code",
   "execution_count": 1,
   "id": "7273bd4d",
   "metadata": {},
   "outputs": [],
   "source": [
    "import numpy as np"
   ]
  },
  {
   "cell_type": "code",
   "execution_count": 2,
   "id": "0bd448ba",
   "metadata": {},
   "outputs": [],
   "source": [
    "A = np.array([[1,2,3],[3,4,5]])"
   ]
  },
  {
   "cell_type": "code",
   "execution_count": 3,
   "id": "88ca8936",
   "metadata": {},
   "outputs": [
    {
     "name": "stdout",
     "output_type": "stream",
     "text": [
      "[[0. 0. 0.]\n",
      " [0. 0. 0.]\n",
      " [0. 0. 0.]\n",
      " [0. 0. 0.]\n",
      " [0. 0. 0.]]\n"
     ]
    }
   ],
   "source": [
    "array =np.zeros((5,3))\n",
    "print(array)"
   ]
  },
  {
   "cell_type": "code",
   "execution_count": 4,
   "id": "36d24c6c",
   "metadata": {},
   "outputs": [
    {
     "name": "stdout",
     "output_type": "stream",
     "text": [
      "[[1. 1. 1. 1. 1.]\n",
      " [1. 1. 1. 1. 1.]\n",
      " [1. 1. 1. 1. 1.]\n",
      " [1. 1. 1. 1. 1.]\n",
      " [1. 1. 1. 1. 1.]]\n"
     ]
    }
   ],
   "source": [
    "array = np.ones( (5,5) )\n",
    "print(array)"
   ]
  },
  {
   "cell_type": "code",
   "execution_count": 13,
   "id": "da9ccb5d",
   "metadata": {},
   "outputs": [
    {
     "name": "stdout",
     "output_type": "stream",
     "text": [
      "-0.5197461561532739\n",
      "0.4401951664305478\n",
      "[[-0.35704165]]\n"
     ]
    }
   ],
   "source": [
    "array1 = np.random.randn()\n",
    "array2 = np.random.rand()\n",
    "array3 = np.matrix(array)\n",
    "print(array1)\n",
    "print(array2)\n",
    "print(array3)"
   ]
  },
  {
   "cell_type": "code",
   "execution_count": 15,
   "id": "5a2c01f7",
   "metadata": {},
   "outputs": [
    {
     "name": "stdout",
     "output_type": "stream",
     "text": [
      "2\n",
      "4\n",
      "5\n",
      "6\n",
      "8\n",
      "10\n",
      "12\n",
      "14\n",
      "15\n",
      "16\n",
      "18\n",
      "20\n",
      "22\n",
      "24\n",
      "25\n",
      "26\n",
      "28\n",
      "30\n",
      "32\n",
      "34\n",
      "35\n",
      "36\n",
      "38\n",
      "40\n",
      "42\n",
      "44\n",
      "45\n",
      "46\n",
      "48\n",
      "50\n",
      "52\n",
      "54\n",
      "55\n",
      "56\n",
      "58\n",
      "60\n",
      "62\n",
      "64\n",
      "65\n",
      "66\n",
      "68\n",
      "70\n",
      "72\n",
      "74\n",
      "75\n",
      "76\n",
      "78\n",
      "80\n",
      "82\n",
      "84\n",
      "85\n",
      "86\n",
      "88\n",
      "90\n",
      "92\n",
      "94\n",
      "95\n",
      "96\n",
      "98\n",
      "100\n"
     ]
    }
   ],
   "source": [
    "for i in range(1,101):\n",
    "  if i%3==0 or i%5==0:\n",
    "    print(i)"
   ]
  },
  {
   "cell_type": "code",
   "execution_count": 17,
   "id": "b1ac4ffd",
   "metadata": {},
   "outputs": [
    {
     "name": "stdout",
     "output_type": "stream",
     "text": [
      "Enter redius :8\n",
      "Area : 200.96\n"
     ]
    },
    {
     "data": {
      "text/plain": [
       "200.96"
      ]
     },
     "execution_count": 17,
     "metadata": {},
     "output_type": "execute_result"
    }
   ],
   "source": [
    "def circleArea(radius):\n",
    "    area = float(radius) * float(radius)*3.14\n",
    "    print (\"Area :\",area)\n",
    "    return area\n",
    " \n",
    "r = input(\"Enter redius :\")\n",
    " \n",
    "circleArea(r)"
   ]
  },
  {
   "cell_type": "code",
   "execution_count": 21,
   "id": "87b50522",
   "metadata": {},
   "outputs": [
    {
     "name": "stdout",
     "output_type": "stream",
     "text": [
      "Summer is amazing\n"
     ]
    }
   ],
   "source": [
    "favorite_season = \"Summer\"\n",
    "\n",
    "if favorite_season == \"Winter\":\n",
    "    print(\"That is my favorite season too\")\n",
    "elif favorite_season == \"Summer\":\n",
    "    print(\"Summer is amazing\")\n",
    "elif favorite_season == \"Spring\":\n",
    "    print(\"I love spring\")\n",
    "else:\n",
    "    print(\"Fall is my mom's favorite season\")"
   ]
  },
  {
   "cell_type": "code",
   "execution_count": 26,
   "id": "2bd82787",
   "metadata": {},
   "outputs": [
    {
     "name": "stdout",
     "output_type": "stream",
     "text": [
      "Odd: 7\n",
      "Odd: 9\n",
      "Odd: 11\n",
      "Odd: 13\n"
     ]
    }
   ],
   "source": [
    "x = 6\n",
    "while x < 15:\n",
    "    if x % 2 == 0:\n",
    "        x += 1\n",
    "        continue\n",
    "    print(\"Odd:\", x)\n",
    "    x += 1"
   ]
  },
  {
   "cell_type": "code",
   "execution_count": 35,
   "id": "9b41d9b8",
   "metadata": {},
   "outputs": [],
   "source": [
    "def print_pattern(num_rows):\n",
    "    for i in range(num_rows):\n",
    "        for num_cols in range(num_rows-i):\n",
    "            print(\"*\", end=\"\")\n",
    "        print()"
   ]
  },
  {
   "cell_type": "code",
   "execution_count": 36,
   "id": "334fa633",
   "metadata": {},
   "outputs": [
    {
     "name": "stdout",
     "output_type": "stream",
     "text": [
      "*****\n",
      "****\n",
      "***\n",
      "**\n",
      "*\n"
     ]
    }
   ],
   "source": [
    "print_pattern(5)"
   ]
  },
  {
   "cell_type": "code",
   "execution_count": null,
   "id": "a32438ea",
   "metadata": {},
   "outputs": [],
   "source": []
  }
 ],
 "metadata": {
  "kernelspec": {
   "display_name": "Python 3 (ipykernel)",
   "language": "python",
   "name": "python3"
  },
  "language_info": {
   "codemirror_mode": {
    "name": "ipython",
    "version": 3
   },
   "file_extension": ".py",
   "mimetype": "text/x-python",
   "name": "python",
   "nbconvert_exporter": "python",
   "pygments_lexer": "ipython3",
   "version": "3.9.7"
  }
 },
 "nbformat": 4,
 "nbformat_minor": 5
}
